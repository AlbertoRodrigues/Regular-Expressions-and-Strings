{
 "cells": [
  {
   "cell_type": "markdown",
   "id": "9a86d98f",
   "metadata": {},
   "source": [
    "## Nesse capítulo eu vou mostrar várias funções com strings caso eu precise revisar no futuro!\n",
    "### Funções: lower, upper, capitalize, join, split, strip, find, count, replace"
   ]
  },
  {
   "cell_type": "code",
   "execution_count": 1,
   "id": "25bf5516",
   "metadata": {},
   "outputs": [
    {
     "data": {
      "text/plain": [
       "'upper'"
      ]
     },
     "execution_count": 1,
     "metadata": {},
     "output_type": "execute_result"
    }
   ],
   "source": [
    "\"UPPER\".lower()"
   ]
  },
  {
   "cell_type": "code",
   "execution_count": 3,
   "id": "6b516823",
   "metadata": {},
   "outputs": [
    {
     "data": {
      "text/plain": [
       "'LOWER'"
      ]
     },
     "execution_count": 3,
     "metadata": {},
     "output_type": "execute_result"
    }
   ],
   "source": [
    "\"lower\".upper()"
   ]
  },
  {
   "cell_type": "code",
   "execution_count": 4,
   "id": "b3c4c4d3",
   "metadata": {},
   "outputs": [
    {
     "data": {
      "text/plain": [
       "'Titulo bonito'"
      ]
     },
     "execution_count": 4,
     "metadata": {},
     "output_type": "execute_result"
    }
   ],
   "source": [
    "\"titulo bonito\".capitalize()"
   ]
  },
  {
   "cell_type": "code",
   "execution_count": 5,
   "id": "c20eac78",
   "metadata": {},
   "outputs": [
    {
     "data": {
      "text/plain": [
       "'unindo minha string'"
      ]
     },
     "execution_count": 5,
     "metadata": {},
     "output_type": "execute_result"
    }
   ],
   "source": [
    "\" \".join([\"unindo\", \"minha\", \"string\"])"
   ]
  },
  {
   "cell_type": "code",
   "execution_count": 6,
   "id": "f4d6e776",
   "metadata": {},
   "outputs": [
    {
     "data": {
      "text/plain": [
       "'unindo,minha,string'"
      ]
     },
     "execution_count": 6,
     "metadata": {},
     "output_type": "execute_result"
    }
   ],
   "source": [
    "\",\".join([\"unindo\", \"minha\", \"string\"])"
   ]
  },
  {
   "cell_type": "code",
   "execution_count": 7,
   "id": "dfbe8bcd",
   "metadata": {},
   "outputs": [
    {
     "data": {
      "text/plain": [
       "['separando', 'minha', 'string']"
      ]
     },
     "execution_count": 7,
     "metadata": {},
     "output_type": "execute_result"
    }
   ],
   "source": [
    "\"separando minha string\".split()"
   ]
  },
  {
   "cell_type": "code",
   "execution_count": 9,
   "id": "bb37b59d",
   "metadata": {},
   "outputs": [
    {
     "data": {
      "text/plain": [
       "'separando, minha, string'"
      ]
     },
     "execution_count": 9,
     "metadata": {},
     "output_type": "execute_result"
    }
   ],
   "source": [
    "\"separando minha string\".replace(\" \", \", \")"
   ]
  },
  {
   "cell_type": "code",
   "execution_count": 10,
   "id": "0394516c",
   "metadata": {},
   "outputs": [
    {
     "data": {
      "text/plain": [
       "6"
      ]
     },
     "execution_count": 10,
     "metadata": {},
     "output_type": "execute_result"
    }
   ],
   "source": [
    "\"minha casa\".find(\"casa\")"
   ]
  },
  {
   "cell_type": "code",
   "execution_count": 11,
   "id": "8e7c9c12",
   "metadata": {},
   "outputs": [
    {
     "data": {
      "text/plain": [
       "3"
      ]
     },
     "execution_count": 11,
     "metadata": {},
     "output_type": "execute_result"
    }
   ],
   "source": [
    "\"casa casa casa\".count(\"casa\")"
   ]
  },
  {
   "cell_type": "markdown",
   "id": "db5d92c6",
   "metadata": {},
   "source": [
    "### Formatação de strings: função format, string literal usando o f antes da string"
   ]
  },
  {
   "cell_type": "code",
   "execution_count": 12,
   "id": "4b85ed6a",
   "metadata": {},
   "outputs": [
    {
     "name": "stdout",
     "output_type": "stream",
     "text": [
      "Machine learning provides systems the ability to learn automatically\n"
     ]
    }
   ],
   "source": [
    "print(\"Machine learning provides {} the ability to learn {}\".format(\"systems\", \"automatically\"))"
   ]
  },
  {
   "cell_type": "code",
   "execution_count": 13,
   "id": "271d6f23",
   "metadata": {},
   "outputs": [
    {
     "name": "stdout",
     "output_type": "stream",
     "text": [
      "Practicing how to code is the best method for learning Python faster\n"
     ]
    }
   ],
   "source": [
    "way = \"code\"\n",
    "method = \"learning Python faster\"\n",
    "print(f\"Practicing how to {way} is the best method for {method}\")"
   ]
  }
 ],
 "metadata": {
  "kernelspec": {
   "display_name": "Python 3 (ipykernel)",
   "language": "python",
   "name": "python3"
  },
  "language_info": {
   "codemirror_mode": {
    "name": "ipython",
    "version": 3
   },
   "file_extension": ".py",
   "mimetype": "text/x-python",
   "name": "python",
   "nbconvert_exporter": "python",
   "pygments_lexer": "ipython3",
   "version": "3.9.7"
  }
 },
 "nbformat": 4,
 "nbformat_minor": 5
}
